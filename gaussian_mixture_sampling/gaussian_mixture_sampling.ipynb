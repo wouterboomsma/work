{
 "cells": [
  {
   "cell_type": "code",
   "execution_count": 116,
   "metadata": {},
   "outputs": [],
   "source": [
    "%matplotlib inline\n",
    "import numpy as np\n",
    "import matplotlib.pyplot as plt\n",
    "import math\n",
    "\n",
    "class Mixture:\n",
    "    def __init__(self, weights, mus, sigmas):\n",
    "        assert(len(mus) == len(sigmas))\n",
    "        assert(len(mus) == len(weights))\n",
    "        self.weights = weights\n",
    "        self.size = len(mus)\n",
    "        self.mus = mus\n",
    "        self.sigmas = sigmas\n",
    "    \n",
    "    def sample_direct(self, n=10000):\n",
    "        \n",
    "        components = np.random.choice(range(self.size), n, p=self.weights)\n",
    "        \n",
    "        samples = np.zeros(0)\n",
    "        bincount = np.bincount(components)\n",
    "        # print list(components)\n",
    "        for i in range(self.size):\n",
    "            x = np.random.normal(self.mus[i], self.sigmas[i], bincount[i])\n",
    "            samples = np.concatenate([samples, x])\n",
    "        return samples\n",
    "\n",
    "    def likelihood(self, x):\n",
    "        import scipy.stats\n",
    "        l = 0.\n",
    "        for i in range(self.size):\n",
    "            l += self.weights[i] * scipy.stats.norm(self.mus[i], self.sigmas[i]).pdf(x)\n",
    "        return l\n",
    "\n",
    "    def sample_monte_carlo(self, steps=10000, initial_value=0):\n",
    "        \n",
    "        samples = []\n",
    "        current_value = initial_value\n",
    "        current_ll = math.log(self.likelihood(current_value))\n",
    "        acceptance_count = 0\n",
    "        for i in range(steps):\n",
    "            \n",
    "            delta = np.random.normal(120., 10)\n",
    "            if np.random.random() < 0.5:\n",
    "                new_value = current_value + delta\n",
    "                if new_value > 180:\n",
    "                    new_value -= 360.\n",
    "            else:\n",
    "                new_value = current_value - delta\n",
    "                if new_value < -180:\n",
    "                    new_value += 360.\n",
    "        \n",
    "            new_ll = math.log(self.likelihood(new_value))\n",
    "            \n",
    "            ll_diff = new_ll - current_ll\n",
    "            accept = True\n",
    "            if ll_diff < 0:\n",
    "                if np.random.random() > np.exp(ll_diff):\n",
    "                    accept = False\n",
    "            \n",
    "            if accept:\n",
    "                current_value = new_value\n",
    "                current_ll = new_ll\n",
    "                acceptance_count += 1\n",
    "\n",
    "            samples.append(current_value)\n",
    "        \n",
    "        print \"acceptance rate: \", acceptance_count / float(steps)\n",
    "            \n",
    "        return np.array(samples)"
   ]
  },
  {
   "cell_type": "code",
   "execution_count": null,
   "outputs": [],
   "source": [
    ""
   ]
  },
  {
   "cell_type": "code",
   "execution_count": 117,
   "metadata": {},
   "outputs": [
    {
     "data": {
      "text/plain": [
       "<Container object of 360 artists>"
      ]
     },
     "execution_count": 117,
     "metadata": {},
     "output_type": "execute_result"
    },
    {
     "data": {
      "image/png": "[encoded data removed]",
      "text/plain": [
       "<matplotlib.figure.Figure at 0x108f78b50>"
      ]
     },
     "metadata": {},
     "output_type": "display_data"
    }
   ],
   "source": [
    "mixture = Mixture([0.05, 0.25, 0.7], mus=[-60., 60., 180.], sigmas=[15, 15, 15])\n",
    "samples = mixture.sample_direct()\n",
    "# x = np.random.normal(60, 15, 1000)\n",
    "hist, bins = np.histogram(samples, bins=360)\n",
    "bincenters = 0.5*(bins[1:]+bins[:-1])\n",
    "plt.bar(bincenters, hist)"
   ]
  },
  {
   "cell_type": "code",
   "execution_count": 118,
   "metadata": {},
   "outputs": [
    {
     "name": "stdout",
     "output_type": "stream",
     "text": [
      "acceptance rate:  0.2937\n"
     ]
    },
    {
     "data": {
      "text/plain": [
       "<Container object of 360 artists>"
      ]
     },
     "execution_count": 118,
     "metadata": {},
     "output_type": "execute_result"
    },
    {
     "data": {
      "image/png": "[encoded data removed]",
      "text/plain": [
       "<matplotlib.figure.Figure at 0x108747310>"
      ]
     },
     "metadata": {},
     "output_type": "display_data"
    }
   ],
   "source": [
    "samples = mixture.sample_monte_carlo()\n",
    "hist, bins = np.histogram(samples, bins=360)\n",
    "bincenters = 0.5*(bins[1:]+bins[:-1])\n",
    "plt.bar(bincenters, hist)"
   ]
  }
 ],
 "metadata": {},
 "nbformat": 4,
 "nbformat_minor": 0
}