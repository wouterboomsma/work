{
 "cells": [
  {
   "cell_type": "code",
   "execution_count": 13,
   "metadata": {
    "collapsed": true
   },
   "outputs": [
    {
     "name": "stdout",
     "output_type": "stream",
     "text": [
      "-382.303945666\n"
     ]
    }
   ],
   "source": [
    "import numpy as np\n",
    "from scipy import integrate\n",
    "from scipy.special import i0\n",
    "\n",
    "class BivariateVonMisesSineModel:\n",
    "\n",
    "    @classmethod\n",
    "    def compute_log_norm_const(self, k1, k2, _lambda):\n",
    "        # Can be calculated from the marginal distribution: \n",
    "        #    C^-1*2*pi*i0(k2l(theta))*exp(k1*cos(theta))\n",
    "        # where k2l(theta) = sqrt(k2^2 + lambda^2*sin^2(theta)\n",
    "        def integrand(theta, args):\n",
    "            k1, k2, _lambda = args\n",
    "            k2l = np.sqrt(k2*k2 + _lambda*_lambda*(np.sin(theta))**2)\n",
    "            integrand = 2.*np.pi*i0(k2l)*np.exp(k1*np.cos(theta))\n",
    "            return integrand\n",
    "            \n",
    "        norm_const = integrate.quad(integrand, -np.pi, np.pi, limit=100, args=[k1, k2, _lambda])[0]\n",
    "        return np.log(norm_const)\n",
    "    \n",
    "    @classmethod\n",
    "    def log_likelihood(self, data, mu1, mu2, k1, k2, _lambda):\n",
    "        n = data.shape[0]\n",
    "        cos1 = np.cos(data[:,0]-mu1)\n",
    "        cos2 = np.cos(data[:,1]-mu2)\n",
    "        sin12 = np.sin((data[:,0]-mu1) - (data[:,1]-mu2))\n",
    "        return sum(k1*cos1 + k2*cos2 - _lambda*sin12) - n*self.compute_log_norm_const(k1, k2, _lambda)\n",
    "        \n",
    "\n",
    "data = np.array([\n",
    "[ -0.971989082367, -0.83687870514 ],\n",
    "[ -1.06627177603, -0.74191552104 ],\n",
    "[ -0.984855100433, -0.906417773154 ],\n",
    "[ -1.10693515335, -0.837497347901 ],\n",
    "[ -0.854550041096, -0.752737175991 ],\n",
    "[ -1.22546017582, -0.629859489903 ],\n",
    "[ -1.04895610121, -0.751911937368 ],\n",
    "[ -1.12898529541, -0.663914884261 ],\n",
    "[ -1.10534250328, -0.720762108772 ],\n",
    "[ -0.990917445926, -0.863880057317 ],\n",
    "[ -1.04085476232, -0.745606165122 ],\n",
    "[ -1.07286021771, -0.785078390884 ],\n",
    "[ -1.3127190398, -0.553319119733 ],\n",
    "[ -1.00349877145, -0.835252427823 ],\n",
    "[ -1.10136517202, -0.663928210492 ],\n",
    "[ -1.17435509591, -0.743148546978 ],\n",
    "[ -1.1383073542, -0.678859475523 ],\n",
    "[ -1.23525399306, -0.67567956545 ],\n",
    "[ -1.71037091049, -0.187372284966 ],\n",
    "[ 0.879191208943, 0.861602332502 ],\n",
    "[ -0.955942704761, 2.40296635469 ],\n",
    "[ -1.1634069277, 2.67479076707 ],\n",
    "[ -0.965678961686, -0.679027376572 ],\n",
    "[ -1.08616277215, -0.804981318642 ],\n",
    "[ -1.18153548264, -0.584583017991 ],\n",
    "[ -1.08412832219, -0.732702736959 ],\n",
    "[ -1.09531654843, -0.798340787017 ],\n",
    "[ -0.970568915211, -0.808165130314 ],\n",
    "[ -1.04918900783, -0.860551587725 ],\n",
    "[ -1.12586802406, -0.711684123768 ],\n",
    "[ -1.02420909063, -0.750183552423 ],\n",
    "[ -1.1196627794, -0.788123184498 ],\n",
    "[ -1.05604915432, -0.629936178128 ],\n",
    "[ -1.06985627883, -0.782143427479 ],\n",
    "[ -1.2621172803, -0.689386603322 ],\n",
    "[ -1.05254855405, -0.705399128018 ],\n",
    "[ -1.72276895145, 0.0868335709948 ],\n",
    "[ 0.846991795592, 0.984937046063 ],\n",
    "[ -1.84901937774, 2.68752885312 ],\n",
    "[ -1.39290265871, 2.84146964016 ],\n",
    "[ -1.0549113876, -0.613815516903 ],\n",
    "[ -1.16773852836, -0.665859910914 ],\n",
    "[ -1.17220301111, -0.637935731841 ]\n",
    "])\n",
    "\n",
    "print BivariateVonMisesSineModel.log_likelihood(data, 0., 0., 10., 10., 2.)"
   ]
  }
 ],
 "metadata": {
  "kernelspec": {
   "display_name": "Python 2",
   "language": "python",
   "name": "python2"
  },
  "language_info": {
   "codemirror_mode": {
    "name": "ipython",
    "version": 2.0
   },
   "file_extension": ".py",
   "mimetype": "text/x-python",
   "name": "python",
   "nbconvert_exporter": "python",
   "pygments_lexer": "ipython2",
   "version": "2.7.6"
  }
 },
 "nbformat": 4,
 "nbformat_minor": 0
}