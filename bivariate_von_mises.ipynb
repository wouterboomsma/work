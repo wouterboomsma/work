{
 "cells": [
  {
   "cell_type": "code",
   "execution_count": null,
   "metadata": {
    "collapsed": true
   },
   "outputs": [],
   "source": [
    "class BivariateVonMisesSineModel:\n",
    "\n",
    "    def __init__(self, mu, k1, k2, _lambda):\n",
    "        self.mu = mu\n",
    "        self.k1 = k1\n",
    "        self.k2 = k2\n",
    "        self._lambda = _lambda\n",
    "        \n",
    "    def compute_log_norm_const(theta, k1, k2, _lambda):\n",
    "        # Can be calculated from the marginal distribution: \n",
    "        #    C^-1*2*pi*i0(k2l(theta))*exp(k1*cos(theta))\n",
    "        # where k2l(theta) = sqrt(k2^2 + lambda^2*sin^2(theta)\n",
    "        def integrand(theta, args):\n",
    "            k1, k2, _lambda = args\n",
    "            k2l = np.sqrt(k2*k2 + _lambda*_lambda*(np.sin(theta))**2)\n",
    "            integrand = 2.*np.pi*i0(k2l)*exp(k1*cos(theta))\n",
    "            \n",
    "        norm_const = integrate.quad(integrand, -np.pi, np.pi, limit=100, args=[k1, k2, _lambda])[0]\n",
    "        return np.log(norm_const)\n",
    "    \n",
    "    def log_likelihood(self, data, mu1, m2, k1, k2, _lambda):\n",
    "        cos1 = np.cps\n",
    "        sum(kappa1*)\n",
    "    "
   ]
  }
 ],
 "metadata": {
  "kernelspec": {
   "display_name": "Python 2",
   "language": "python",
   "name": "python2"
  },
  "language_info": {
   "codemirror_mode": {
    "name": "ipython",
    "version": 2.0
   },
   "file_extension": ".py",
   "mimetype": "text/x-python",
   "name": "python",
   "nbconvert_exporter": "python",
   "pygments_lexer": "ipython2",
   "version": "2.7.6"
  }
 },
 "nbformat": 4,
 "nbformat_minor": 0
}